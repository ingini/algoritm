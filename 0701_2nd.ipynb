{
 "cells": [
  {
   "cell_type": "markdown",
   "metadata": {},
   "source": [
    "### 2A-도토리 키재기"
   ]
  },
  {
   "cell_type": "code",
   "execution_count": null,
   "metadata": {},
   "outputs": [],
   "source": [
    "n = int(input())\n",
    "dotoris = list(map(int, input().split()))\n",
    "dotori_births = list(map(int, input().split()))\n",
    "now_month = int(input())\n",
    "\n",
    "answer = -1\n",
    "\n",
    "for i in range(n)[::-1]:\n",
    "\tif dotori_births[i] == now_month:\n",
    "\t\tanswer = dotoris[i]\n",
    "\t\tbreak\n",
    "\telse:\n",
    "\t\tpass\n",
    "\n",
    "print(answer)"
   ]
  },
  {
   "cell_type": "markdown",
   "metadata": {},
   "source": [
    "### 2B-오름차순인가?"
   ]
  },
  {
   "cell_type": "code",
   "execution_count": null,
   "metadata": {},
   "outputs": [],
   "source": [
    "n = int(input())\n",
    "data = list(map(int, input().split()))\n",
    "\n",
    "answer = True\n",
    "\n",
    "for i in range(n-1):\n",
    "\tif data[i] > data[i+1]:\n",
    "\t\tanswer = False\n",
    "\t\tbreak\n",
    "\n",
    "if answer == False:\n",
    "\tprint(\"NO\")\n",
    "else:\n",
    "\tprint(\"YES\")"
   ]
  },
  {
   "cell_type": "markdown",
   "metadata": {},
   "source": [
    "### 2C-다양성"
   ]
  },
  {
   "cell_type": "code",
   "execution_count": null,
   "metadata": {},
   "outputs": [],
   "source": [
    "n = int(input())\n",
    "data = list(map(int, input().split()))\n",
    "\n",
    "count = 1 # 맨 마지막 원소가 안세어지니까 기본으로 1을 줌\n",
    "\n",
    "for i in range(n-1):\n",
    "\tif data[i] != data[i+1]:\n",
    "\t\tcount += 1\n",
    "\n",
    "print(count)"
   ]
  },
  {
   "cell_type": "markdown",
   "metadata": {},
   "source": [
    "### 2E-소수의 판별"
   ]
  },
  {
   "cell_type": "code",
   "execution_count": null,
   "metadata": {},
   "outputs": [],
   "source": [
    "t = int(input())\n",
    "\n",
    "def isPrime(n):\n",
    "    i = 3\n",
    "    answer = True\n",
    "    if n == 1:\n",
    "        answer = False\n",
    "    elif n == 2:\n",
    "        answer = True\n",
    "    elif n % 2 == 0:\n",
    "        answer = False\n",
    "    \n",
    "    while i*i <= n:\n",
    "        if n % i == 0:\n",
    "            answer = False\n",
    "        i += 2\n",
    "\n",
    "    return answer\n",
    "\n",
    "for i in range(t):\n",
    "\tn = int(input())\n",
    "\tcount = 0\n",
    "\tprint(\"Case #{}\".format(i+1))\n",
    "\tif isPrime(n):\n",
    "\t\tprint(\"YES\")\n",
    "\telse:\n",
    "\t\tprint(\"NO\")"
   ]
  },
  {
   "cell_type": "markdown",
   "metadata": {},
   "source": [
    "### 2F-데스티니"
   ]
  },
  {
   "cell_type": "code",
   "execution_count": null,
   "metadata": {},
   "outputs": [],
   "source": [
    "n = int(input())\n",
    "star = list()\n",
    "count = 0\n",
    "\n",
    "\n",
    "def getdistance(a, b):\n",
    "\treturn ((a[0] - b[0]) ** 2 + (a[1] - b[1]) ** 2) ** 0.5\n",
    "\n",
    "\n",
    "for i in range(n):\n",
    "\tp, q = map(int, input().split())\n",
    "\tstar.append([p, q])\n",
    "\n",
    "distance = getdistance(star[0], star[1])\n",
    "for i in range(n-1):\n",
    "\tfor j in range(i+1, n):\n",
    "\t\tif getdistance(star[i], star[j]) < distance:\n",
    "\t\t\tdistance = getdistance(star[i], star[j])\n",
    "\t\telif getdistance(star[i], star[j]) == distance:\n",
    "\t\t\tcount += 1\n",
    "\n",
    "print(round(distance, 1))\n",
    "print(count)"
   ]
  },
  {
   "cell_type": "markdown",
   "metadata": {},
   "source": [
    "### 2G-버블정렬 구현하기"
   ]
  },
  {
   "cell_type": "code",
   "execution_count": null,
   "metadata": {},
   "outputs": [],
   "source": [
    "n = int(input())\n",
    "data = list(map(int, input().split()))\n",
    "count = 0\n",
    "\n",
    "for i in range(n):\n",
    "\tfor j in range(n - i - 1):\n",
    "\t\tif data[j] > data[j+1]:\n",
    "\t\t\ttemp = data[j]\n",
    "\t\t\tdata[j] = data[j+1]\n",
    "\t\t\tdata[j+1] = temp\n",
    "\t\t\tcount += 1\n",
    "\tif count == 0:\n",
    "\t\tbreak\n",
    "\n",
    "answer = map(str, data)\n",
    "\n",
    "print(' '.join(answer))"
   ]
  },
  {
   "cell_type": "markdown",
   "metadata": {},
   "source": [
    "### 2H-픽셀 수 세기"
   ]
  },
  {
   "cell_type": "code",
   "execution_count": null,
   "metadata": {},
   "outputs": [],
   "source": [
    "n = int(input())\n",
    "\n",
    "\n",
    "def isinside(x, y, r):\n",
    "    if x * x + y * y < r * r:\n",
    "        return True\n",
    "    else:\n",
    "        return False\n",
    "\n",
    "\n",
    "for i in range(n):\n",
    "    r = int(input())\n",
    "    top = r\n",
    "    x = 0\n",
    "    answer = 0\n",
    "    height = list()\n",
    "    while x < r:\n",
    "        if x > 0:\n",
    "            top = height[x - 1]\n",
    "        y = top\n",
    "        while y >= 0:\n",
    "            if isinside(x, y, r):\n",
    "                height.append(y)\n",
    "                answer += y + 1\n",
    "                x += 1\n",
    "                break\n",
    "            y -= 1\n",
    "    print(\"#{}\".format(i + 1))\n",
    "    print(answer * 4)"
   ]
  },
  {
   "cell_type": "markdown",
   "metadata": {},
   "source": [
    "### 2I-정주행"
   ]
  },
  {
   "cell_type": "code",
   "execution_count": null,
   "metadata": {},
   "outputs": [],
   "source": [
    "n = int(input())\n",
    "episode = list(map(int, input().split()))\n",
    "\n",
    "Start = episode[0]\n",
    "Last = episode[0]\n",
    "\n",
    "for i in range(n):\n",
    "\tif Start < episode[i]:\n",
    "\t\tStart = episode[i]\n",
    "\tif Last > episode[i]:\n",
    "\t\tLast = episode[i]\n",
    "\n",
    "if n == (Start - Last + 1):\n",
    "\tprint(\"YES\")\n",
    "else:\n",
    "\tprint(\"NO\")"
   ]
  },
  {
   "cell_type": "markdown",
   "metadata": {},
   "source": [
    "### 2J-승부 조작"
   ]
  },
  {
   "cell_type": "code",
   "execution_count": null,
   "metadata": {},
   "outputs": [],
   "source": [
    "n, k = map(int, input().split())\n",
    "cups = list(map(int, input().split()))\n",
    "result = sum(cups[:k-1]) # 첫 (k-1)개 원소의 합\n",
    "wincount = 0 # 이길 수 있는 횟수\n",
    "i = 0 # while문을 위한 초기값\n",
    "\n",
    "while i + k - 1 < n:\n",
    "\tif i > 0:\n",
    "\t\tresult -= cups[i-1]\n",
    "\t\t\n",
    "\tresult += cups[i + k - 1]\n",
    "\t\n",
    "\tif result % 2 == 0:\n",
    "\t\twincount += 1\n",
    "\t\tbreak\n",
    "\t\t\n",
    "\ti += 1\n",
    "\n",
    "if wincount > 0:\n",
    "\tprint(\"YES\")\n",
    "else:\n",
    "\tprint(\"NO\")"
   ]
  },
  {
   "cell_type": "markdown",
   "metadata": {},
   "source": [
    "### 3A-전화번호"
   ]
  },
  {
   "cell_type": "code",
   "execution_count": null,
   "metadata": {},
   "outputs": [],
   "source": [
    "n = int(input())\n",
    "data = [] # 각 전화번호의 뒷자리 \n",
    "for i in range(n):\n",
    "\tnum = int(input())\n",
    "\tdata.append(num)\n",
    "\t\n",
    "cnt = [0] * (max(data) + 1) #cnt[XXXX] := 뒷 자리가 XXXX인 전화번호의 수 \n",
    "for i in data:\n",
    "\tcnt[i] += 1\n",
    "\n",
    "max_index = 0 #가장 많이 등장한 뒷자리 후보 \n",
    "for num in range((max(data) + 1)):\n",
    "\tif cnt[num] > cnt[max_index]: \n",
    "\t\tmax_index = num\n",
    "\n",
    "print(\"{:0>4}\".format(max_index))\n",
    "\n",
    "# format 함수 정렬법 {:'채울것' + ['>(오른쪽정렬)', '<(왼쪽정렬)', '^(가운데정렬)'] + 자릿수}"
   ]
  },
  {
   "cell_type": "markdown",
   "metadata": {},
   "source": [
    "### 3C-응모"
   ]
  },
  {
   "cell_type": "code",
   "execution_count": null,
   "metadata": {},
   "outputs": [],
   "source": [
    "n = int(input())\n",
    "data = list(map(int, input().split()))\n",
    "answer = []\n",
    "\n",
    "table = [0] * (max(data) + 1)\n",
    "for i in data:\n",
    "\ttable[i] += 1\n",
    "\n",
    "for j in range((max(data) + 1)):\n",
    "\tif table[j] == 1:\n",
    "\t\tanswer.append(j)\n",
    "\n",
    "result = map(str, answer)\n",
    "\n",
    "print(' '.join(result))"
   ]
  }
 ],
 "metadata": {
  "kernelspec": {
   "display_name": "Python 3",
   "language": "python",
   "name": "python3"
  },
  "language_info": {
   "codemirror_mode": {
    "name": "ipython",
    "version": 3
   },
   "file_extension": ".py",
   "mimetype": "text/x-python",
   "name": "python",
   "nbconvert_exporter": "python",
   "pygments_lexer": "ipython3",
   "version": "3.7.3"
  },
  "varInspector": {
   "cols": {
    "lenName": 16,
    "lenType": 16,
    "lenVar": 40
   },
   "kernels_config": {
    "python": {
     "delete_cmd_postfix": "",
     "delete_cmd_prefix": "del ",
     "library": "var_list.py",
     "varRefreshCmd": "print(var_dic_list())"
    },
    "r": {
     "delete_cmd_postfix": ") ",
     "delete_cmd_prefix": "rm(",
     "library": "var_list.r",
     "varRefreshCmd": "cat(var_dic_list()) "
    }
   },
   "types_to_exclude": [
    "module",
    "function",
    "builtin_function_or_method",
    "instance",
    "_Feature"
   ],
   "window_display": false
  }
 },
 "nbformat": 4,
 "nbformat_minor": 2
}
