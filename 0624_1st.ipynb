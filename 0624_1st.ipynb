{
 "cells": [
  {
   "cell_type": "markdown",
   "metadata": {},
   "source": [
    "# 아래 코드 실행 후 '정답코드 숨기기' 버튼 클릭!"
   ]
  },
  {
   "cell_type": "code",
   "execution_count": 1,
   "metadata": {
    "ExecuteTime": {
     "end_time": "2019-06-21T02:09:48.973459Z",
     "start_time": "2019-06-21T02:09:48.968471Z"
    },
    "scrolled": true
   },
   "outputs": [
    {
     "data": {
      "text/html": [
       "<script>\n",
       "code_show=true; \n",
       "function code_toggle() {\n",
       " if (code_show){\n",
       " $('div.input').hide();\n",
       " } else {\n",
       " $('div.input').show();\n",
       " }\n",
       " code_show = !code_show\n",
       "} \n",
       "$( document ).ready(code_toggle);\n",
       "</script>\n",
       "<form action=\"javascript:code_toggle()\"><input type=\"submit\" value=\"정답코드 숨기기\"></form>"
      ],
      "text/plain": [
       "<IPython.core.display.HTML object>"
      ]
     },
     "execution_count": 1,
     "metadata": {},
     "output_type": "execute_result"
    }
   ],
   "source": [
    "from IPython.display import HTML\n",
    "\n",
    "HTML('''<script>\n",
    "code_show=true; \n",
    "function code_toggle() {\n",
    " if (code_show){\n",
    " $('div.input').hide();\n",
    " } else {\n",
    " $('div.input').show();\n",
    " }\n",
    " code_show = !code_show\n",
    "} \n",
    "$( document ).ready(code_toggle);\n",
    "</script>\n",
    "<form action=\"javascript:code_toggle()\"><input type=\"submit\" value=\"정답코드 숨기기\"></form>''')"
   ]
  },
  {
   "cell_type": "markdown",
   "metadata": {},
   "source": [
    "# 문제1A - 최대값 함수  \n",
    "\n",
    "---------------------------------------\n",
    "\n",
    "### 1. 문제 의도\n",
    "> 　간단한 함수를 구현해봅시다. 우리가 머릿속으로 숫자를 아는 상태로 더 큰 값을 고르는 것과 그런 방법을 컴퓨터에게 설명하는 것의 차이를 생각하며 구현해봅시다.  \n",
    "### 2. 실습 내용  \n",
    "> 정수 두 개를 입력받아서 더 큰 값을 출력하는 프로그램을 작성하시오.\n",
    "### 3. 입력 형식  \n",
    "> 32비트 int형 정수 두 개가 공백으로 구분되어 한 줄에 주어진다.\n",
    "### 4. 출력 형식\n",
    "> 두 정수 중 큰 정수를 한 줄에 공백없이 출력한다.\n",
    "### 5. 입/출력 예시\n",
    "> **예시 1**\n",
    "\n",
    ">| 입력 \t|\n",
    "|:----:\t|\n",
    "|  1 9 \t|\n",
    "| **출력** \t|\n",
    "|   9  \t|"
   ]
  },
  {
   "cell_type": "code",
   "execution_count": 12,
   "metadata": {},
   "outputs": [
    {
     "name": "stdout",
     "output_type": "stream",
     "text": [
      "20 30\n",
      "30\n"
     ]
    }
   ],
   "source": [
    "a, b =map(int,input().split())\n",
    "\n",
    "answer = max(a, b)\n",
    "\n",
    "print(answer)"
   ]
  },
  {
   "cell_type": "code",
   "execution_count": 3,
   "metadata": {
    "ExecuteTime": {
     "end_time": "2019-06-21T01:22:02.824420Z",
     "start_time": "2019-06-21T01:22:00.215771Z"
    },
    "hide_input": true,
    "scrolled": false
   },
   "outputs": [
    {
     "name": "stdout",
     "output_type": "stream",
     "text": [
      "1 9\n",
      "9\n"
     ]
    }
   ],
   "source": [
    "p, q = map(int, input().split())\n",
    "answer = max(p, q)\n",
    "\n",
    "print(answer)"
   ]
  },
  {
   "cell_type": "markdown",
   "metadata": {},
   "source": [
    "# 문제1B - 배열의 최대값\n",
    "\n",
    "--------------------------------------\n",
    "\n",
    "### 1. 문제 의도\n",
    "> 조금 더 일반화하여 여러개의 숫자에 대해 최댓값을 구하는 방법을 생각해 봅시다. \n",
    "### 2. 실습 내용  \n",
    "> 　32비트 int형 정수가 N개 주어진다. 이 때 N개의 정수 중 가장 큰 값을 출력하는 프로그램을 작성하시오.\n",
    "### 3. 입력 형식  \n",
    ">- 첫 줄에 입력 받을 숫자의 수 N이 주어진다. N은 10,000이하의 자연수이다.  \n",
    ">- 두 번째 줄에 N개의 정수가 공백으로 구분되어 주어진다.\n",
    "### 4. 출력 형식\n",
    "> N개의 숫자 중 가장 큰 숫자를 첫 줄에 공백없이 출력한다.\n",
    "### 5. 입/출력 예시\n",
    "> **예시 1**\n",
    "\n",
    ">|          입력          \t|\n",
    "|:----------------------:\t|\n",
    "|           10           \t|\n",
    "| 2 -1 5 7 3 1 -50 5 4 7 \t|\n",
    "|          **출력**          \t|\n",
    "|            7           \t|"
   ]
  },
  {
   "cell_type": "code",
   "execution_count": 13,
   "metadata": {},
   "outputs": [
    {
     "name": "stdout",
     "output_type": "stream",
     "text": [
      "10\n",
      "3 4 6 8 4 5 1 650\n",
      "650\n"
     ]
    }
   ],
   "source": [
    "n = int(input())\n",
    "d = list(map(int, input().split()))\n",
    "answer = max(d)\n",
    "\n",
    "print(answer)"
   ]
  },
  {
   "cell_type": "code",
   "execution_count": 4,
   "metadata": {
    "ExecuteTime": {
     "end_time": "2019-06-21T01:26:20.496508Z",
     "start_time": "2019-06-21T01:26:12.160232Z"
    },
    "hide_input": true,
    "scrolled": true
   },
   "outputs": [
    {
     "name": "stdout",
     "output_type": "stream",
     "text": [
      "10\n",
      "2 -1 5 7 3 1 -50 5 4 7\n",
      "7\n"
     ]
    }
   ],
   "source": [
    "n = int(input())\n",
    "data = list(map(int, input().split()))\n",
    "answer = max(data)\n",
    "\n",
    "print(answer)"
   ]
  },
  {
   "cell_type": "markdown",
   "metadata": {},
   "source": [
    "# 문제1C - 카운팅하기\n",
    "\n",
    "--------------------------------------\n",
    "\n",
    "### 1. 문제 의도\n",
    "> 반복문을 사용해 원하는 원하는 조건을 만족하는 경우를 세는 방법을 연습해봅시다.\n",
    "### 2. 실습 내용  \n",
    "> 　그룹의 리더 역할을 맡고 있는 수정이는 교보문고 한복판에서 사라진 지수와 미주를 찾고 있습니다. 하지만 교보문고에는 사람이 너무 많아 지수와 미주를 찾기가 너무 힘듭니다. 초인적인 능력을 가진 수정이는 멀리서도 사람들의 키를 1cm단위로 정확히 알아낼 수 있습니다. 수정이는 자신의 능력을 활용하여 미주나 지수와 키가 같은 사람만을 쫓아가 확인하기로 하였습니다. 현재 교보문고에 있는 모든 사람들의 수와 수정이가 인식한 키가 주어집니다. 주어지는 미주와 지수의 키를 활용하여 수정이는 최대 몇 명의 사람을 확인해야 하는 지 계산하는 프로그램을 작성해주세요.\n",
    "### 3. 입력 형식  \n",
    ">-  첫 줄에 세 자연수 N, M, S가 주어진다. 각각 교보문고에 있는 수정이를 제외한 사람의 수 N, 미주의 키 M, 지수의 키 S이다.  \n",
    ">- 두 번째 줄에 N명의 사람들의 키가 공백으로 구분되어 자연수로 입력된다.  \n",
    ">- 사람들의 수 N은 10,000이하의 자연수이며, 모든 사람들의 키는 1이상  300이하의 자연수이다. \n",
    "### 4. 출력 형식\n",
    "> 　수정이가 미주와 지수를 찾기위해 확인해보아야 할 후보의 수를 출력한다. 첫 줄에 공백없이 정수로 출력하면 된다.\n",
    "### 5. 입/출력 예시\n",
    "> **예시 1**\n",
    "\n",
    ">|                   입력                  \t|\n",
    "|:---------------------------------------:\t|\n",
    "|                10 165 167               \t|\n",
    "| 165 180 175 167 128 200 167 138 176 156 \t|\n",
    "|                   **출력**                  \t|\n",
    "|                    3                    \t|"
   ]
  },
  {
   "cell_type": "code",
   "execution_count": 14,
   "metadata": {},
   "outputs": [
    {
     "name": "stdout",
     "output_type": "stream",
     "text": [
      "10 165 169\n",
      "180 165 169 175 165 176 196 169\n",
      "4\n"
     ]
    }
   ],
   "source": [
    "n, m, s = map(int, input().split())\n",
    "data = list(map(int,input().split()))\n",
    "count = 0\n",
    "\n",
    "for height in data:\n",
    "    if height == m:\n",
    "        count += 1\n",
    "    elif height == s:\n",
    "        count += 1\n",
    "        \n",
    "print(count)"
   ]
  },
  {
   "cell_type": "code",
   "execution_count": 5,
   "metadata": {
    "ExecuteTime": {
     "end_time": "2019-06-21T02:16:59.227948Z",
     "start_time": "2019-06-21T02:16:29.841307Z"
    }
   },
   "outputs": [
    {
     "name": "stdout",
     "output_type": "stream",
     "text": [
      "10 165 167\n",
      "165 180 175 167 128 200 167 138 176 156\n",
      "3\n"
     ]
    }
   ],
   "source": [
    "n, m, s = map(int, input().split()) # 사람의 수 n, 미주의 키 m, 지수의 키 s\n",
    "data = list(map(int, input().split()))\n",
    "count = 0 # 찾아봐야할 횟수\n",
    "\n",
    "for height in data:\n",
    "    if height == m:\n",
    "        count += 1\n",
    "    elif height == s:\n",
    "        count += 1\n",
    "\n",
    "print(count)"
   ]
  },
  {
   "cell_type": "markdown",
   "metadata": {},
   "source": [
    "# 문제1D - 합 구하기1\n",
    "--------------------------------------\n",
    "### 1. 문제 의도\n",
    "> 반복문을 이용하여 연속된 데이터들의 합을 어떻게 구할 수 있을까요?\n",
    "### 2. 실습 내용  \n",
    "> 정수가 N개 주어진다. 이 N개의 정수의 합을 출력하는 프로그램을 작성하시오.\n",
    "### 3. 입력 형식  \n",
    ">- 첫 줄에 입력되는 데이터의 수 N이 공백없이 입력된다. N은 1이상 1,000이하의 자연수이다.  \n",
    ">- 두 번째 줄에는 공백으로 구분된 N개의 정수가 주어진다. 모든 숫자와 그 숫자들의 합은 항상 32비트 정수형으로 표현가능하다.\n",
    "### 4. 출력 형식\n",
    "> 첫 줄에 입력된 N개의 숫자의 합을 공백없이 출력한다.\n",
    "### 5. 입/출력 예시\n",
    "> **예시 1**\n",
    "\n",
    "> | 입력 \t|\n",
    "|:----:\t|\n",
    "|   1  \t|\n",
    "|   5  \t|\n",
    "| **출력** \t|\n",
    "|   5  \t|\n",
    "\n",
    "> **예시 2**\n",
    "\n",
    "> |   입력   \t|\n",
    "|:--------:\t|\n",
    "|     3    \t|\n",
    "| 50 10 -5 \t|\n",
    "|   **출력**   \t|\n",
    "|    55    \t|"
   ]
  },
  {
   "cell_type": "code",
   "execution_count": 16,
   "metadata": {},
   "outputs": [
    {
     "name": "stdout",
     "output_type": "stream",
     "text": [
      "5\n",
      "35 -5 20 -15 -10 30\n",
      "55\n"
     ]
    }
   ],
   "source": [
    "n = int(input())\n",
    "data = list(map(int, input().split()))\n",
    "answer = sum(data)\n",
    "\n",
    "print(answer)"
   ]
  },
  {
   "cell_type": "code",
   "execution_count": 6,
   "metadata": {},
   "outputs": [
    {
     "name": "stdout",
     "output_type": "stream",
     "text": [
      "3\n",
      "50 10 -5\n",
      "55\n"
     ]
    }
   ],
   "source": [
    "n = int(input())\n",
    "data = list(map(int, input().split()))\n",
    "answer = sum(data)\n",
    "\n",
    "print(answer)"
   ]
  },
  {
   "cell_type": "markdown",
   "metadata": {},
   "source": [
    "# 문제1E - 합 구하기2\n",
    "--------------------------------------\n",
    "### 1. 문제 의도\n",
    ">  단순히 카운팅하는 것을 넘어 합을 구하는 방법을 고민해봅시다.\n",
    "### 2. 실습 내용  \n",
    "> 　사막 여우의 탈을 쓴 지수는 놀이공원에서 아르바이트를 하고 있습니다. 지수가 담당하고 있는 놀이기구는 무게에 민감하기 때문에 몇 가지 제한을 두고 있습니다.\n",
    "\n",
    ">- 이 놀기기구는 몸무게가 P kg이 넘는 사람은 탑승 할 수 없습니다.  \n",
    ">- 그리고 탑승한 승객의 몸무게의 총 합은 Q kg을 넘을 수 없습니다.  \n",
    ">- 다만 탑승하는 인원의 제한은 두고 있지 않습니다.  \n",
    "\n",
    "> 　보통은 놀이기구의 최대 탑승 중량을 넘기 전에 탑승 인원을 나누기 때문에 크게 문제가 발생하지 않습니다. 하지만 오늘은 조금 문제가 있습니다. 아주대학교 알고리즘 동아리라고 자신들을 소개한 단체손님 때문입니다. 그들은 애초에 몸무게가 P kg를 넘어가는 회원은 제외하더라도 나머지 인원들은 꼭 함께 놀이기구를 탑승해야한다고 우기고 있습니다. 이 동아리의 회원들 중 놀이기구를 탈 수 있는 사람은 몇 명인지, 그리고 체중 제한을 통과한 사람들은 모두 함께 놀이기구를 탈 수 있는지 계산할 수 있는 프로그램을 작성해주세요.\n",
    "### 3. 입력 형식  \n",
    ">  　첫 줄에 세 자연수 N, P, Q가 주어진다. 각각 동아리 회원의 수 N, 놀이기구의 탑승 제한 체중 P, 놀이기구의 최대 하중 Q이다.  \n",
    "그리고 두 번째 줄에는 각 회원의 몸무게가 주어진다.\n",
    "\n",
    ">- N는 10,000이하의 자연수이다.  \n",
    ">- P와각 동아리 회원의 몸무게는 1이상 300이하의 자연수이다.  \n",
    ">- Q는 3,000,000이하의 자연수이다  \n",
    "### 4. 출력 형식\n",
    "> 　첫 줄에 놀이기구 체중 제한에 걸리지 않은 회원의 수와 그들의 몸무게의 총 합을 공백으로 구분하여 출력한다.  \n",
    "그리고 두 번째 줄에 그들 모두가 함께 놀이기구에 탑승할 수 있는지 여부를 YES 혹은 NO로 출력한다.\n",
    "### 5. 입/출력 예시\n",
    "> **예시 1**\n",
    "\n",
    "> |              입력             \t|\n",
    "|:-----------------------------:\t|\n",
    "|           10 80 500           \t|\n",
    "| 75 50 67 84 54 67 98 85 58 90 \t|\n",
    "|              **출력**             \t|\n",
    "|             6 371             \t|\n",
    "|              YES              \t|"
   ]
  },
  {
   "cell_type": "code",
   "execution_count": 19,
   "metadata": {},
   "outputs": [
    {
     "name": "stdout",
     "output_type": "stream",
     "text": [
      "8 80 350\n",
      "55 65 75 98 66 64 70 75\n",
      "7 470\n",
      "No\n"
     ]
    }
   ],
   "source": [
    "total = 0 \n",
    "count = 0\n",
    "\n",
    "n, p, q = map(int, input().split())\n",
    "data = list(map(int, input().split()))\n",
    "\n",
    "for weight in data:\n",
    "    if weight <=p:\n",
    "        count +=1\n",
    "        total += weight\n",
    "        \n",
    "print('{} {}'.format(count, total))\n",
    "if total <= q:\n",
    "    print('Yes')\n",
    "else:\n",
    "    print('No')"
   ]
  },
  {
   "cell_type": "code",
   "execution_count": 7,
   "metadata": {},
   "outputs": [
    {
     "name": "stdout",
     "output_type": "stream",
     "text": [
      "10 80 500\n",
      "75 50 67 84 54 67 98 85 58 90\n",
      "6 371\n",
      "YES\n"
     ]
    }
   ],
   "source": [
    "total = 0 #이 변수에 탑승할 수 있는 회원의 몸무게의 합\n",
    "count = 0 #이 변수에 탑승할 수 있는 사람의 수\n",
    "\n",
    "n, p, q = map(int, input().split()) # 회원 수 n, 탑승 제한 체중 p, 놀이기구 최대하중 q\n",
    "data = list(map(int, input().split()))\n",
    "\n",
    "for weight in data:\n",
    "    if weight <= p:\n",
    "        count += 1\n",
    "        total += weight\n",
    "\n",
    "print('{} {}'.format(count, total))\n",
    "if total <= q:\n",
    "    print('YES')\n",
    "else:\n",
    "    print('NO')"
   ]
  },
  {
   "cell_type": "markdown",
   "metadata": {},
   "source": [
    "# 문제1F - 탐색하기1\n",
    "--------------------------------------\n",
    "### 1. 문제 의도\n",
    ">  연속된 데이터에서 원하는 값의 위치를 구하는 방법을 고민해봅시다.\n",
    "### 2. 실습 내용  \n",
    "> 　N개의 정수로 이루어진 배열과 찾고자 하는 값 M이 주어진다. 이 배열에서 M이 존재하는 인덱스를 출력하는 프로그램을 작성하시오.\n",
    "### 3. 입력 형식  \n",
    ">- 첫 줄에는 두 자연수 N과 M이 주어진다. N은 1만 이하의 자연수이다.\n",
    ">- 두 번째 줄에는 N개의 서로 다른 자연수가 공백으로 구분되어 주어진다.\n",
    ">- 입력되는 모든 숫자와 M은 1이상 1,000이하의 자연수임이 보장된다.\n",
    "### 4. 출력 형식\n",
    "> 　한 줄에 입력된 배열에서 M이 존재하는 인덱스를 정수로 공백없이 출력한다. 인덱스는 0이상 N-1이하의 정수라고 가정한다. 찾고자 하는 값이 배열에 없다면 -1을 출력한다.\n",
    "### 5. 입/출력 예시\n",
    "> **예시 1**\n",
    "\n",
    "> |  입력 \t|\n",
    "|:-----:\t|\n",
    "|  3 2  \t|\n",
    "| 2 3 1 \t|\n",
    "|  **출력** \t|\n",
    "|   0   \t|\n",
    "\n",
    "> **예시 2**\n",
    "\n",
    "> |           입력           \t|\n",
    "|:------------------------:\t|\n",
    "|           10 4           \t|\n",
    "| 10 7 2 6 3 1 88 27 35 85 \t|\n",
    "|           **출력**           \t|\n",
    "|            -1            \t|"
   ]
  },
  {
   "cell_type": "code",
   "execution_count": 20,
   "metadata": {},
   "outputs": [
    {
     "name": "stdout",
     "output_type": "stream",
     "text": [
      "5 6\n",
      " 5 6 185 15 756 46 35 6 10\n",
      "-1\n"
     ]
    }
   ],
   "source": [
    "def find_value(data):\n",
    "    index = -1\n",
    "    for i in range(n):\n",
    "        if m == data[i]:\n",
    "            index = i\n",
    "        return index\n",
    "    \n",
    "n, m = map(int, input().split())\n",
    "data = list(map(int, input().split()))\n",
    "answer = find_value(data)\n",
    "print(answer)"
   ]
  },
  {
   "cell_type": "code",
   "execution_count": 8,
   "metadata": {},
   "outputs": [
    {
     "name": "stdout",
     "output_type": "stream",
     "text": [
      "10 4\n",
      "10 7 2 6 3 1 88 27 35 85\n",
      "-1\n"
     ]
    }
   ],
   "source": [
    "def find_value(data):\n",
    "    index = -1 # 없으면 -1\n",
    "    for i in range(n):\n",
    "        if m == data[i]:\n",
    "            index = i\n",
    "    return index\n",
    "\n",
    "n, m = map(int, input().split())\n",
    "data = list(map(int, input().split()))\n",
    "answer = find_value(data)\n",
    "print(answer)"
   ]
  },
  {
   "cell_type": "markdown",
   "metadata": {},
   "source": [
    "# 문제1G - 탐색하기2\n",
    "--------------------------------------\n",
    "### 1. 문제 의도\n",
    "> 연속적인 데이터에서 원하는 특정 데이터의 위치를 찾는 연습을 해봅시다.\n",
    "### 2. 실습 내용  \n",
    "> 　민규와 주명이는 대한민국의 국민입니다. 국민으로서 부여받은 병역의 의무를 이행하기 위하여 둘은 동반 입대를 결정했습니다. 하지만 동반 입대를 단순히 동시에 입영 신청을 하는 것으로 착각한 둘은 같은 시각에 입영 신청을 하고 입대를 기다리고 있었습니다. 하지만 서로 다른 곳에서 복무를 하게 된다는 사실을 알게 된 둘은 경악했습니다. 또한 비슷한 시기에 입영 신청을 한 같은 과 친구들도 모두 뿔뿔이 흩어져 다른 부대로 가게 되었다는 사실을 알게 되었습니다. 결국 외로움을 참지 못한 주명이는 병무청을 해킹하여 복무지를 조작하기로 결정하였습니다. 주명이는 최근 복무지가 결정된 데이터 N개를 처리된 시간 순서대로 얻을 수 있었습니다. 주명이는 같은 학교 친구들이 모두 같은 복무지에 갈 수 있도록 하고자 합니다. 하지만 일일이 데이터를 확인할 수 없던 주명이는 처음 처리된 아주대학교 학생부터 가장 마지막에 처리된 아주대학교 학생 까지의 정보만을 같은 복무지로 수정하고자 합니다.  \n",
    "　주명이가 얻은 복무지 처리 데이터의 수 N과 그 데이터들이 순서대로 주어질 때, 같은 복무지로 처리해야 할 첫 번째 데이터의 번호와 마지막 데이터의 번호를 구하는 프로그램을 작성해주세요.\n",
    "### 3. 입력 형식  \n",
    ">- 첫 줄에는 주명이가 얻은 데이터의 수 N이 10,000이하의 자연수로 주어진다.\n",
    ">- 두 번째 줄 부터는 총 N줄에 걸쳐 각 줄에 하나씩 해당 학생의 소속 학교가 주어진다. 시간 순으로 첫 번째 데이터가 가장 먼저 주어진다.\n",
    ">- 소속 학교명은 공백이 없는 알파벳 대문자만으로 구성되어 있으며, 1글자 이상 10글자 이하이다.\n",
    ">- 소속 학교명이 AJOU인 모든 데이터는 아주대학교 소속 학생의 데이터라고 가정하며, 최소 한 명 이상의 학생은 아주대학교 소속이다.\n",
    "### 4. 출력 형식\n",
    "> 　주명이가 같은 복무지로 처리 할 첫 데이터와 마지막 데이터의 번호를 한 줄에 공백으로 구분하여 출력한다.\n",
    "### 5. 입/출력 예시\n",
    "> **예시 1**\n",
    "\n",
    "> |   입력  \t|\n",
    "|:-------:\t|\n",
    "|    10   \t|\n",
    "|   HELL  \t|\n",
    "|  CHOSUN \t|\n",
    "|   SKK   \t|\n",
    "|  KOREA  \t|\n",
    "|   AJOU  \t|\n",
    "|  YONSEI \t|\n",
    "|  SEOUL  \t|\n",
    "|   AJOU  \t|\n",
    "|   AJOU  \t|\n",
    "| WOOSONG \t|\n",
    "|   **출력**  \t|\n",
    "|   5 9   \t|"
   ]
  },
  {
   "cell_type": "code",
   "execution_count": 22,
   "metadata": {},
   "outputs": [
    {
     "name": "stdout",
     "output_type": "stream",
     "text": [
      "10\n",
      "SEOUL\n",
      "SEOUL\n",
      "TAYA\n",
      "JEJU\n",
      "JOJO\n",
      "VIVA\n",
      "SEOUL\n",
      "AJOU\n",
      "SEOUL\n",
      "VIKE\n",
      "1 9\n"
     ]
    }
   ],
   "source": [
    "n = int(input())\n",
    "\n",
    "first_index= -1\n",
    "last_index = -1\n",
    "\n",
    "for i in range(1, n+1):\n",
    "    name = input()\n",
    "    if name == 'SEOUL':\n",
    "        last_index = i\n",
    "        if first_index == -1:\n",
    "            first_index = i\n",
    "            \n",
    "print('{} {}'.format(first_index, last_index))"
   ]
  },
  {
   "cell_type": "code",
   "execution_count": 10,
   "metadata": {},
   "outputs": [
    {
     "name": "stdout",
     "output_type": "stream",
     "text": [
      "10\n",
      "HELL\n",
      "CHOSUN\n",
      "SKK\n",
      "KOREA\n",
      "AJOU\n",
      "YONSEI\n",
      "SEOUL\n",
      "AJOU\n",
      "AJOU\n",
      "WOOSONG\n",
      "5 9\n"
     ]
    }
   ],
   "source": [
    "n = int(input())\n",
    "\n",
    "first_index = -1 # 초기값(아무거나 상관없음)\n",
    "last_index = -1 # 초기값(아무거나 상관없음)\n",
    "\n",
    "for i in range(1, n+1):\n",
    "    name = input()\n",
    "    if name == 'AJOU':\n",
    "        last_index = i\n",
    "        if first_index == -1:\n",
    "            first_index = i\n",
    "\n",
    "print('{} {}'.format(first_index, last_index))"
   ]
  },
  {
   "cell_type": "markdown",
   "metadata": {},
   "source": [
    "# 문제1H - 탐색하기3\n",
    "--------------------------------------\n",
    "### 1. 문제 의도\n",
    "> 조금 까다로운 조건으로 탐색을 더 연습해봅시다.\n",
    "### 2. 실습 내용  \n",
    "> 　데이터 마이닝 과목을 수강하게 된 지애는 평소 수학과 컴퓨터와는 거리가 먼 삶을 살아왔기 때문에 과제에 애를 먹고있다. 평소 지애 괴롭히기를 좋아하는 미주는 진지하게 휴학을 고민하는 지애가 학교를 떠나는 것을 원하지 않기에 과제를 대신 해주기로 했다. 하지만 미주도 프로그래밍을 전혀 할 줄 모르기 때문에 평소 컴퓨터를 잘 다루기로 소문난 선배인 당신에게 과제를 부탁했다. 당신은 미주를 위하여 프로그램을 작성해야 한다.  \n",
    "　N개의 수치 데이터가 정수로 주어진다. 당신은 이 개별 데이터들 중 전체 데이터의 평균과 가장 가까운 데이터와 그 번호를 출력하고자 한다. 가깝다라는 의미는 평균에서 그 숫자를 뺀 절댓값이 작다는 의미이다. 평균과의 거리가 같은 숫자가 두 개 이상일 경우, 가장 먼저 입력된 데이터를 우선으로 한다. 데이터의 번호는 입력받은 순서대로 1부터 N으로 부여된다.\n",
    "### 3. 입력 형식  \n",
    ">- 첫 줄에 전체 데이터의 수 N이 10,000이하의 자연수로 주어진다.\n",
    ">- 두 번째 줄에는 각 수치 데이터가 공백으로 구분되어 한 줄에 주어진다. 각 수치 데이터는 -100,000 이상 100,000 이하의 정수이다.\n",
    "### 4. 출력 형식\n",
    "> 한 줄에 평균과 가장 거리가 가까운 데이터의 번호와 그 값을 공백으로 구분하여 출력한다.\n",
    "### 5. 입/출력 예시\n",
    "> **예시 1**\n",
    "\n",
    ">|      입력     \t|\n",
    "|:-------------:\t|\n",
    "|       6       \t|\n",
    "| 1 2 4 7 10 15 \t|\n",
    "|      **출력**     \t|\n",
    "|      4 7      \t|"
   ]
  },
  {
   "cell_type": "code",
   "execution_count": 23,
   "metadata": {},
   "outputs": [
    {
     "name": "stdout",
     "output_type": "stream",
     "text": [
      "5\n",
      "1 3 15 30 45\n",
      "3 15\n"
     ]
    }
   ],
   "source": [
    "n = int(input())\n",
    "data = list(map(int, input().split()))\n",
    "\n",
    "def findindex(data,n):\n",
    "    x = 0\n",
    "    total = sum(data)\n",
    "    for i in range(n):\n",
    "        dx = abs(total- n * data[x])\n",
    "        di = abs(total -n * data[i])\n",
    "        if di < dx:\n",
    "            x = i\n",
    "    return x+ 1\n",
    "\n",
    "answer = findindex(data,n)\n",
    "index = answer -1\n",
    "\n",
    "print('{} {}'.format(answer, data[index]))"
   ]
  },
  {
   "cell_type": "code",
   "execution_count": 23,
   "metadata": {},
   "outputs": [
    {
     "name": "stdout",
     "output_type": "stream",
     "text": [
      "6\n",
      "1 2 4 7 10 15\n",
      "4 7\n"
     ]
    }
   ],
   "source": [
    "n= int(input())\n",
    "data = list(map(int, input().split()))\n",
    "\n",
    "def findIndex(data, n):\n",
    "    x = 0 # 인덱스 위치 초기값\n",
    "    total = sum(data) # 합계\n",
    "    for i in range(n):\n",
    "        dx = abs(total - n * data[x]) # 최소거리\n",
    "        di = abs(total - n * data[i]) # 평균과의 거리\n",
    "        if di < dx:\n",
    "            x = i\n",
    "    return x + 1\n",
    "\n",
    "answer = findIndex(data, n)\n",
    "index = answer - 1\n",
    "\n",
    "print('{} {}'.format(answer, data[index]))"
   ]
  },
  {
   "cell_type": "markdown",
   "metadata": {},
   "source": [
    "# 문제1J - 합 구하기3\n",
    "--------------------------------------\n",
    "### 1. 문제 의도\n",
    "> 앞에서 배운 내용을 떠올리며 문제를 풀어봅시다.\n",
    "### 2. 실습 내용  \n",
    "> 　평소 머리가 나쁘다고 놀림을 자주 듣는 예인이는 몰래 수학 공부를 하고 있다. 수학 공부를 하던 예인이는 자연수에 대한 깊은 고찰을 하게 되었다. 어떤 자연수 N이 있다고 했을 때 1이상 N 이하의 모든 자연수의 합은 손 쉽게 계산할 수 있다. 어떤 자연수 N이 있다고 했을 때, 아래와 같은 식의 값은 어떻게 계산할 수 있을까?\n",
    "\n",
    ">- (1이상 1이하의 모든 자연수의 합) + (1이상 2이하의 모든 자연수의 합) + ... +(1이상 N이하의 모든 자연수의 합)\n",
    "\n",
    "> 　어릴적부터 주술같은 주산을 배운 예인이는 위의 식을 계산하며 자신의 암산 능력을 다지기로 결정했다. 하지만 자신이 계산한 값이 정답이 맞는지 검증 할 수 없었던 예인이는 당신에게 자연수 N을 입력하면 위의 식으로 계산한 결과를 알려주는 프로그램을 요구했다. 컴퓨터를 잘 다룬다고 주변에 소문난 당신은 귀여운 예인이를 위하여 프로그램을 작성해주기로 결정하였다. \n",
    "### 3. 입력 형식  \n",
    "> 첫 줄에 1이상 2,000이하의 자연수 N이 공백없이 주어진다.\n",
    "### 4. 출력 형식\n",
    "> 첫 줄에 입력 값 N에 대하여 위의 식을 계산한 결과를 한 줄에 공백없이 출력한다.\n",
    "### 5. 입/출력 예시\n",
    "> **예시 1**\n",
    "\n",
    "> |  입력  \t|\n",
    "|:------:\t|\n",
    "|   100  \t|\n",
    "|  **출력**  \t|\n",
    "| 171700 \t|"
   ]
  },
  {
   "cell_type": "code",
   "execution_count": null,
   "metadata": {},
   "outputs": [],
   "source": [
    "n = int(input())\n",
    "\n",
    "def getsum(n):\n",
    "    sum = 0\n",
    "    answer = 0\n",
    "    for i in range(1, n+1):\n",
    "        for j in range(1, n+1):\n",
    "            sum += j\n",
    "        answer += sum\n",
    "    return answer\n",
    "        \n",
    "print(getsum(n))"
   ]
  },
  {
   "cell_type": "code",
   "execution_count": null,
   "metadata": {
    "scrolled": false
   },
   "outputs": [],
   "source": [
    "n = int(input())\n",
    "\n",
    "def getSum(n):\n",
    "    sum = 0\n",
    "    for i in range(1, n+1):\n",
    "        sum += i\n",
    "    return sum\n",
    "\n",
    "def getAnswer(n):\n",
    "    answer = 0\n",
    "    for i in range(1, n+1):\n",
    "        answer += getSum(i)\n",
    "    return answer\n",
    "\n",
    "print(getAnswer(n))"
   ]
  },
  {
   "cell_type": "code",
   "execution_count": null,
   "metadata": {},
   "outputs": [],
   "source": []
  }
 ],
 "metadata": {
  "kernelspec": {
   "display_name": "Python 3",
   "language": "python",
   "name": "python3"
  },
  "language_info": {
   "codemirror_mode": {
    "name": "ipython",
    "version": 3
   },
   "file_extension": ".py",
   "mimetype": "text/x-python",
   "name": "python",
   "nbconvert_exporter": "python",
   "pygments_lexer": "ipython3",
   "version": "3.7.3"
  },
  "varInspector": {
   "cols": {
    "lenName": 16,
    "lenType": 16,
    "lenVar": 40
   },
   "kernels_config": {
    "python": {
     "delete_cmd_postfix": "",
     "delete_cmd_prefix": "del ",
     "library": "var_list.py",
     "varRefreshCmd": "print(var_dic_list())"
    },
    "r": {
     "delete_cmd_postfix": ") ",
     "delete_cmd_prefix": "rm(",
     "library": "var_list.r",
     "varRefreshCmd": "cat(var_dic_list()) "
    }
   },
   "types_to_exclude": [
    "module",
    "function",
    "builtin_function_or_method",
    "instance",
    "_Feature"
   ],
   "window_display": false
  }
 },
 "nbformat": 4,
 "nbformat_minor": 2
}
