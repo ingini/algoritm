{
 "cells": [
  {
   "cell_type": "markdown",
   "metadata": {},
   "source": [
    "# 3B - 페인트"
   ]
  },
  {
   "cell_type": "code",
   "execution_count": null,
   "metadata": {
    "ExecuteTime": {
     "start_time": "2019-07-11T02:06:34.823Z"
    }
   },
   "outputs": [],
   "source": [
    "# -*- coding: utf-8 -*-\n",
    "# UTF-8 encoding when using korean\n",
    "\n",
    "# 주의사항\n",
    "# 1. 색칠 안해도 0번 색으로 기본적으로 칠해져 있다\n",
    "# 2. 가장 적게 등장한 색 -> (한 번이라도 나온 색 중에)\n",
    "\n",
    "n, m = map(int, input().split())\n",
    "seats = [0] * n # 좌석에 색칠한 색을 저장\n",
    "colors = [0] * 100 # 색칠에 사용한 색을 저장(색칠의 빈도수)\n",
    "\n",
    "for i in range(m): # 좌석에 색상을 채워보자\n",
    "\tleft, right, color = map(int, input().split())\n",
    "\twhile left <= right:\n",
    "\t\tseats[left - 1] = color\n",
    "\t\tleft += 1\n",
    "\n",
    "for j in range(n): # 색상의 빈도수 테이블을 채워보자\n",
    "\tindex = seats[j]\n",
    "\tcolors[index] += 1\n",
    "\n",
    "min_color = seats[0]\n",
    "max_color = seats[0]\n",
    "\n",
    "for j in range(100):\n",
    "\tif colors[j] == 0:\n",
    "\t\tcontinue\n",
    "\tif colors[min_color] > colors[j]:\n",
    "\t\tmin_color = j\n",
    "\tif colors[max_color] < colors[j]:\n",
    "\t\tmax_color = j\n",
    "\n",
    "print(max_color)\n",
    "print(min_color)"
   ]
  },
  {
   "cell_type": "markdown",
   "metadata": {},
   "source": [
    "# 3D - 피보나치 나머지"
   ]
  },
  {
   "cell_type": "code",
   "execution_count": null,
   "metadata": {},
   "outputs": [],
   "source": [
    "# 피보나치 나머지를 저장한 리스트를 생성해보자\n",
    "fibo = [0] * 1000001\n",
    "fibo[1] = 0\n",
    "fibo[2] = 1\n",
    "for i in range(3, 1000001):\n",
    "\tfibo[i] = (fibo[i-1] + fibo[i-2]) % 100000000\n",
    "\n",
    "n = int(input())\n",
    "\n",
    "for j in range(n):\n",
    "\tnum = int(input())\n",
    "\tprint(fibo[num])"
   ]
  },
  {
   "cell_type": "markdown",
   "metadata": {},
   "source": [
    "# 3E - 색종이"
   ]
  },
  {
   "cell_type": "code",
   "execution_count": null,
   "metadata": {},
   "outputs": [],
   "source": [
    "# -*- coding: utf-8 -*-\n",
    "# UTF-8 encoding when using korean\n",
    "\n",
    "t = int(input())\n",
    "\n",
    "for i in range(t):\n",
    "    board = [[0 for i in range(100)] for j in range(100)] # 100칸짜리 보드 만들어줌 & 초기화\n",
    "    answer = 0 # 정답 초기화\n",
    "    n = int(input())\n",
    "    for j in range(n):\n",
    "        left, south = map(int, input().split())\n",
    "        right, north = left + 10, south + 10\n",
    "        for x in range(left, right):\n",
    "            for y in range(south, north):\n",
    "                board[x][y] += 1 # x,y 좌표에 색종이가 존재하면 카운팅한다\n",
    "    for x in range(100):\n",
    "        for y in range(100):\n",
    "            if board[x][y] > 0:\n",
    "                answer += 1\n",
    "    print(answer)"
   ]
  },
  {
   "cell_type": "markdown",
   "metadata": {},
   "source": [
    "# 3F - 과유불급"
   ]
  },
  {
   "cell_type": "code",
   "execution_count": null,
   "metadata": {},
   "outputs": [],
   "source": [
    "# -*- coding: utf-8 -*-\n",
    "# UTF-8 encoding when using korean\n",
    "\n",
    "n, m = map(int, input().split())\n",
    "numbers = list(map(int, input().split()))\n",
    "cards = [0] + numbers\n",
    "\n",
    "# 부분합 구하기\n",
    "# rangesum[n] -> numbers의 1번째부터 n번째 항목까지의 합\n",
    "rangesum = [0] * (n+1)\n",
    "for i in range(1, n+1):\n",
    "\trangesum[i] = rangesum[i-1] + cards[i]\n",
    "\n",
    "# 1. 공통적으로 사용할 수 있는 정보(부분합)는 밖으로빼서 한 번만 계산할 수 있게\n",
    "# 2. 미리 계산해놓는 값이 간접적인 정보일 수 있다 -> 바로 사용할 수 있는 형태가 아닌 경우도 있다.\n",
    "\n",
    "answer = [0] * (m+1)\n",
    "\n",
    "for i in range(m):\n",
    "\tl, r = map(int, input().split())\n",
    "\tpoint = rangesum[r] - rangesum[l-1]\n",
    "\tanswer[i+1] = point\n",
    "\n",
    "print('{} {}'.format(answer.index(max(answer)) ,max(answer)))"
   ]
  },
  {
   "cell_type": "markdown",
   "metadata": {},
   "source": [
    "# 3G - 팬미팅"
   ]
  },
  {
   "cell_type": "code",
   "execution_count": null,
   "metadata": {},
   "outputs": [],
   "source": [
    "n, k = map(int, input().split())\n",
    "births = list(map(int, input().split()))\n",
    "\n",
    "answer = 0\n",
    "frequency = [0] * 1000000\n",
    "uniqueElements = 0\n",
    "\n",
    "# 첫 k-1개의 데이터에 대한 정보를 미리 등록\n",
    "for i in range(k-1):\n",
    "    count = frequency[births[i]]\n",
    "    if count == 0:\n",
    "        uniqueElements += 1\n",
    "    elif count == 1:\n",
    "        uniqueElements -= 1\n",
    "    frequency[births[i]] += 1\n",
    "\n",
    "j = 0\n",
    "while j + k - 1 < n:\n",
    "    left = j\n",
    "    right = j + k - 1\n",
    "    count = frequency[births[right]]\n",
    "    if count == 0:\n",
    "        uniqueElements += 1\n",
    "    elif count == 1:\n",
    "        uniqueElements -= 1\n",
    "    frequency[births[right]] += 1\n",
    "\n",
    "    if left > 0:\n",
    "        count = frequency[births[left - 1]]\n",
    "        if count == 1:\n",
    "            uniqueElements -= 1\n",
    "        elif count == 2:\n",
    "            uniqueElements += 1\n",
    "        frequency[births[left - 1]] -= 1\n",
    "    if uniqueElements == k:\n",
    "        answer += 1\n",
    "\n",
    "    j += 1\n",
    "\n",
    "print(answer)"
   ]
  },
  {
   "cell_type": "markdown",
   "metadata": {},
   "source": [
    "# 3H - 두 카드"
   ]
  },
  {
   "cell_type": "code",
   "execution_count": null,
   "metadata": {},
   "outputs": [],
   "source": [
    "# -*- coding: utf-8 -*-\n",
    "# UTF-8 encoding when using korean\n",
    "\n",
    "n, m = map(int, input().split())\n",
    "cards = list(map(int, input().split()))\n",
    "numbers = list(map(int, input().split()))\n",
    "\n",
    "answer = 0 # 만들 수 있는 당첨번호의 갯수\n",
    "\n",
    "cardset = set(cards)\n",
    "\n",
    "for number in numbers:\n",
    "\tfor card in cards:\n",
    "\t\ty = number - card\n",
    "\t\tif y in cardset # 바이너리 서치 기능 사용(빠르다)\n",
    "\t\t\tanswer += 1\n",
    "\t\t\tbreak\n",
    "\n",
    "print(answer)"
   ]
  },
  {
   "cell_type": "markdown",
   "metadata": {},
   "source": [
    "# 3I - 세 카드"
   ]
  },
  {
   "cell_type": "code",
   "execution_count": null,
   "metadata": {},
   "outputs": [],
   "source": [
    "# -*- coding: utf-8 -*-\n",
    "# UTF-8 encoding when using korean\n",
    "\n",
    "n, m = map(int, input().split())\n",
    "cards = list(map(int, input().split()))\n",
    "numbers = list(map(int, input().split()))\n",
    "\n",
    "answer = []\n",
    "\n",
    "cardset = set(cards)\n",
    "\n",
    "for k in numbers:\n",
    "    possible = False\n",
    "    for x in cards:\n",
    "        for y in cards:\n",
    "            z = k - (x+y)\n",
    "            if z in cardset:\n",
    "                possible = True\n",
    "                break\n",
    "        if possible:\n",
    "            break\n",
    "    if possible:\n",
    "        answer.append(k)\n",
    "\n",
    "if len(answer) == 0:\n",
    "\tprint('NO')\n",
    "\n",
    "else:\n",
    "\tresult = map(str, list(sorted(answer)))\n",
    "\tprint(' '.join(result))"
   ]
  },
  {
   "cell_type": "markdown",
   "metadata": {},
   "source": [
    "# 3J - 네 카드"
   ]
  },
  {
   "cell_type": "code",
   "execution_count": null,
   "metadata": {},
   "outputs": [],
   "source": [
    "# -*- coding: utf-8 -*-\n",
    "# UTF-8 encoding when using korean\n",
    "\n",
    "n, m = map(int, input().split())\n",
    "cards = list(map(int, input().split()))\n",
    "numbers = list(map(int, input().split()))\n",
    "\n",
    "answer = []\n",
    "pairs = []\n",
    "\n",
    "for i in cards:\n",
    "    for j in cards:\n",
    "        pairs.append(i+j)\n",
    "\n",
    "pairset = set(pairs)\n",
    "\n",
    "for k in numbers:\n",
    "    possible = False\n",
    "    for x in pairs:\n",
    "        y = k - x\n",
    "        if y in pairset:\n",
    "            answer.append(k)\n",
    "            break\n",
    "\n",
    "if len(answer) == 0:\n",
    "    print('NO')\n",
    "\n",
    "else:\n",
    "    result = map(str, list(sorted(answer)))\n",
    "    print(' '.join(result))"
   ]
  },
  {
   "cell_type": "markdown",
   "metadata": {},
   "source": [
    "# 4C - 최대공약수와 최소공배수"
   ]
  },
  {
   "cell_type": "code",
   "execution_count": null,
   "metadata": {},
   "outputs": [],
   "source": [
    "# -*- coding: utf-8 -*-\n",
    "# UTF-8 encoding when using korean\n",
    "\n",
    "def getGCD(n, m):\n",
    "\tmod = n % m\n",
    "\twhile mod > 0:\n",
    "\t\tn = m\n",
    "\t\tm = mod\n",
    "\t\tmod = n%m\n",
    "\treturn m\n",
    "\n",
    "def getLCM(n, m):\n",
    "\treturn int(n * m // getGCD(n, m))\n",
    "\n",
    "\n",
    "t = int(input())\n",
    "\n",
    "for i in range(t):\n",
    "\tn, m = map(int, input().split())\n",
    "\tprint('Case #{}:'.format(i+1))\n",
    "\tprint('{} {}'.format(getGCD(n,m), getLCM(n,m)))"
   ]
  },
  {
   "cell_type": "markdown",
   "metadata": {},
   "source": [
    "# 4D - 수열의 순환"
   ]
  },
  {
   "cell_type": "code",
   "execution_count": null,
   "metadata": {},
   "outputs": [],
   "source": [
    "# -*- coding: utf-8 -*-\n",
    "# UTF-8 encoding when using korean\n",
    "\n",
    "n = int(input())\n",
    "data = list(map(int, input().split()))\n",
    "\n",
    "def getGCD(n, m):\n",
    "    mod = n % m\n",
    "    while mod > 0:\n",
    "        n = m\n",
    "        m = mod\n",
    "        mod = n%m\n",
    "    return m\n",
    "\n",
    "def getLCM(n, m):\n",
    "    return int(n*m // getGCD(n, m))\n",
    "\n",
    "def getLCMs(data):\n",
    "    if len(data) == 0:\n",
    "        return 0\n",
    "    lcm = data[0]\n",
    "    for i in range(len(data)):\n",
    "        lcm = getLCM(lcm, data[i])\n",
    "    return lcm\n",
    "\n",
    "print(getLCMs(data)+1)"
   ]
  },
  {
   "cell_type": "markdown",
   "metadata": {},
   "source": [
    "# 4H - 카잉 달력"
   ]
  },
  {
   "cell_type": "code",
   "execution_count": 2,
   "metadata": {},
   "outputs": [
    {
     "name": "stdout",
     "output_type": "stream",
     "text": [
      "1\n",
      "1\n"
     ]
    },
    {
     "ename": "ValueError",
     "evalue": "not enough values to unpack (expected 4, got 1)",
     "output_type": "error",
     "traceback": [
      "\u001b[1;31m---------------------------------------------------------------------------\u001b[0m",
      "\u001b[1;31mValueError\u001b[0m                                Traceback (most recent call last)",
      "\u001b[1;32m<ipython-input-2-76fbeb5d0218>\u001b[0m in \u001b[0;36m<module>\u001b[1;34m\u001b[0m\n\u001b[0;32m     14\u001b[0m \u001b[1;33m\u001b[0m\u001b[0m\n\u001b[0;32m     15\u001b[0m \u001b[1;32mfor\u001b[0m \u001b[0mi\u001b[0m \u001b[1;32min\u001b[0m \u001b[0mrange\u001b[0m\u001b[1;33m(\u001b[0m\u001b[0mt\u001b[0m\u001b[1;33m)\u001b[0m\u001b[1;33m:\u001b[0m\u001b[1;33m\u001b[0m\u001b[1;33m\u001b[0m\u001b[0m\n\u001b[1;32m---> 16\u001b[1;33m         \u001b[0mm\u001b[0m\u001b[1;33m,\u001b[0m \u001b[0mn\u001b[0m\u001b[1;33m,\u001b[0m \u001b[0mx\u001b[0m\u001b[1;33m,\u001b[0m \u001b[0my\u001b[0m \u001b[1;33m=\u001b[0m \u001b[0mmap\u001b[0m\u001b[1;33m(\u001b[0m\u001b[0mint\u001b[0m\u001b[1;33m,\u001b[0m \u001b[0minput\u001b[0m\u001b[1;33m(\u001b[0m\u001b[1;33m)\u001b[0m\u001b[1;33m.\u001b[0m\u001b[0msplit\u001b[0m\u001b[1;33m(\u001b[0m\u001b[1;33m)\u001b[0m\u001b[1;33m)\u001b[0m\u001b[1;33m\u001b[0m\u001b[1;33m\u001b[0m\u001b[0m\n\u001b[0m\u001b[0;32m     17\u001b[0m         \u001b[0manswer\u001b[0m \u001b[1;33m=\u001b[0m \u001b[0mgetindex\u001b[0m\u001b[1;33m(\u001b[0m\u001b[0mx\u001b[0m\u001b[1;33m,\u001b[0m\u001b[0my\u001b[0m\u001b[1;33m)\u001b[0m\u001b[1;33m\u001b[0m\u001b[1;33m\u001b[0m\u001b[0m\n\u001b[0;32m     18\u001b[0m         \u001b[0mprint\u001b[0m\u001b[1;33m(\u001b[0m\u001b[0manswer\u001b[0m\u001b[1;33m)\u001b[0m\u001b[1;33m\u001b[0m\u001b[1;33m\u001b[0m\u001b[0m\n",
      "\u001b[1;31mValueError\u001b[0m: not enough values to unpack (expected 4, got 1)"
     ]
    }
   ],
   "source": [
    "# -*- coding: utf-8 -*-\n",
    "# UTF-8 encoding when using korean\n",
    "\n",
    "def getindex(x, y):\n",
    "    index = x\n",
    "    while index <= m * n:\n",
    "        index += m\n",
    "        if (index - 1) % n + 1 == y:\n",
    "            return index\n",
    "    return -1\n",
    "\n",
    "\n",
    "t = int(input())\n",
    "\n",
    "for i in range(t):\n",
    "\tm, n, x, y = map(int, input().split())\n",
    "\tanswer = getindex(x,y)\n",
    "\tprint(answer)"
   ]
  },
  {
   "cell_type": "code",
   "execution_count": null,
   "metadata": {},
   "outputs": [],
   "source": []
  }
 ],
 "metadata": {
  "kernelspec": {
   "display_name": "Python 3",
   "language": "python",
   "name": "python3"
  },
  "language_info": {
   "codemirror_mode": {
    "name": "ipython",
    "version": 3
   },
   "file_extension": ".py",
   "mimetype": "text/x-python",
   "name": "python",
   "nbconvert_exporter": "python",
   "pygments_lexer": "ipython3",
   "version": "3.7.3"
  },
  "varInspector": {
   "cols": {
    "lenName": 16,
    "lenType": 16,
    "lenVar": 40
   },
   "kernels_config": {
    "python": {
     "delete_cmd_postfix": "",
     "delete_cmd_prefix": "del ",
     "library": "var_list.py",
     "varRefreshCmd": "print(var_dic_list())"
    },
    "r": {
     "delete_cmd_postfix": ") ",
     "delete_cmd_prefix": "rm(",
     "library": "var_list.r",
     "varRefreshCmd": "cat(var_dic_list()) "
    }
   },
   "types_to_exclude": [
    "module",
    "function",
    "builtin_function_or_method",
    "instance",
    "_Feature"
   ],
   "window_display": false
  }
 },
 "nbformat": 4,
 "nbformat_minor": 2
}
